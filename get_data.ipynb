{
 "cells": [
  {
   "cell_type": "code",
   "id": "initial_id",
   "metadata": {
    "collapsed": true,
    "ExecuteTime": {
     "end_time": "2025-05-07T05:21:25.944563Z",
     "start_time": "2025-05-07T05:21:25.809547Z"
    }
   },
   "source": [
    "import pandas as pd\n",
    "import time\n",
    "import numpy as np\n",
    "import matplotlib.pyplot as plt\n",
    "import seaborn as sns\n",
    "import scipy.stats as stats\n",
    "import os\n",
    "import yaml\n",
    "from nba_api.stats.endpoints import teamgamelog, boxscoretraditionalv3, boxscoresummaryv2, leaguegamefinder, \\\n",
    "    BoxScoreTraditionalV3\n",
    "from nba_api.stats.static import teams, players"
   ],
   "outputs": [],
   "execution_count": 2
  },
  {
   "metadata": {
    "ExecuteTime": {
     "end_time": "2025-05-07T05:21:26.997142Z",
     "start_time": "2025-05-07T05:21:26.987061Z"
    }
   },
   "cell_type": "code",
   "source": [
    "# load yaml\n",
    "with open(\"config.yaml\", \"r\") as f:\n",
    "    config = yaml.safe_load(f)\n",
    "    DATA_PATH = config.get(\"data_path\")\n",
    "    if DATA_PATH is None:\n",
    "        print(\"ERROR: No data path provided\")\n",
    "    USE_DRIVE = bool(config.get(\"use_drive\", False))\n",
    "\n",
    "print(os.path.join(DATA_PATH, \"get_data/\"))"
   ],
   "id": "c3c01bcc6bd1c082",
   "outputs": [
    {
     "name": "stdout",
     "output_type": "stream",
     "text": [
      "C:/Users/trist/OneDrive/Dokumente/UZH/Semester_6/Intro_Data_Science/Intro_Data_Science_Project/data\\get_data/\n"
     ]
    }
   ],
   "execution_count": 3
  },
  {
   "metadata": {
    "ExecuteTime": {
     "end_time": "2025-05-07T05:21:30.242792Z",
     "start_time": "2025-05-07T05:21:30.232962Z"
    }
   },
   "cell_type": "code",
   "source": [
    "# load from drive if requested\n",
    "if USE_DRIVE:\n",
    "    from google.colab import drive\n",
    "    drive.mount('/content/drive')"
   ],
   "id": "69fb4c09d3ee836c",
   "outputs": [],
   "execution_count": 4
  },
  {
   "metadata": {},
   "cell_type": "markdown",
   "source": "# Get Data",
   "id": "57d682fbfd54a149"
  },
  {
   "metadata": {
    "ExecuteTime": {
     "end_time": "2025-05-06T21:46:51.292042300Z",
     "start_time": "2025-05-06T20:24:53.366990Z"
    }
   },
   "cell_type": "code",
   "source": "seasons = [f\"{year}-{(year+1) % 100:02d}\" for year in range(1996, 2025)]",
   "id": "24d2d7c8f02fe7bf",
   "outputs": [
    {
     "name": "stdout",
     "output_type": "stream",
     "text": [
      "Found 1189 game IDs for the 1996-97 season and a total of 2378 entries.\n",
      "Found 1189 game IDs for the 1997-98 season and a total of 2378 entries.\n",
      "Found 725 game IDs for the 1998-99 season and a total of 1450 entries.\n",
      "Found 1189 game IDs for the 1999-00 season and a total of 2378 entries.\n",
      "Found 1189 game IDs for the 2000-01 season and a total of 2378 entries.\n",
      "Found 1189 game IDs for the 2001-02 season and a total of 2378 entries.\n",
      "Found 1189 game IDs for the 2002-03 season and a total of 2378 entries.\n",
      "Found 1189 game IDs for the 2003-04 season and a total of 2378 entries.\n",
      "Found 1230 game IDs for the 2004-05 season and a total of 2460 entries.\n",
      "Found 1230 game IDs for the 2005-06 season and a total of 2460 entries.\n",
      "Found 1230 game IDs for the 2006-07 season and a total of 2460 entries.\n",
      "Found 1230 game IDs for the 2007-08 season and a total of 2460 entries.\n",
      "Found 1230 game IDs for the 2008-09 season and a total of 2460 entries.\n",
      "Found 1230 game IDs for the 2009-10 season and a total of 2460 entries.\n",
      "Found 1230 game IDs for the 2010-11 season and a total of 2460 entries.\n",
      "Found 990 game IDs for the 2011-12 season and a total of 1980 entries.\n",
      "Found 1229 game IDs for the 2012-13 season and a total of 2458 entries.\n",
      "Found 1230 game IDs for the 2013-14 season and a total of 2460 entries.\n",
      "Found 1230 game IDs for the 2014-15 season and a total of 2460 entries.\n",
      "Found 1230 game IDs for the 2015-16 season and a total of 2460 entries.\n",
      "Found 1230 game IDs for the 2016-17 season and a total of 2460 entries.\n",
      "Found 1230 game IDs for the 2017-18 season and a total of 2460 entries.\n",
      "Found 1230 game IDs for the 2018-19 season and a total of 2460 entries.\n",
      "Found 1059 game IDs for the 2019-20 season and a total of 2118 entries.\n",
      "Found 1080 game IDs for the 2020-21 season and a total of 2160 entries.\n",
      "Found 1230 game IDs for the 2021-22 season and a total of 2460 entries.\n",
      "Found 1230 game IDs for the 2022-23 season and a total of 2460 entries.\n",
      "Found 1230 game IDs for the 2023-24 season and a total of 2460 entries.\n",
      "Found 1230 game IDs for the 2024-25 season and a total of 2460 entries.\n"
     ]
    }
   ],
   "execution_count": 10
  },
  {
   "metadata": {
    "ExecuteTime": {
     "end_time": "2025-05-06T22:09:51.942400Z",
     "start_time": "2025-05-06T22:09:51.928406Z"
    }
   },
   "cell_type": "code",
   "source": [
    "def get_season_game_ids(season):\n",
    "    \"\"\"\n",
    "    Get all regular season game IDs for a specified season.\n",
    "\n",
    "    Args:\n",
    "        season (str): Season in format 'YYYY-YY' (e.g., '2023-24')\n",
    "\n",
    "    Returns:\n",
    "        numpy.ndarray: Array of unique game IDs\n",
    "    \"\"\"\n",
    "    gamefinder = leaguegamefinder.LeagueGameFinder(\n",
    "        season_nullable=season,\n",
    "        season_type_nullable='Regular Season',\n",
    "        league_id_nullable='00'  # NBA league ID\n",
    "    )\n",
    "\n",
    "    games_df = gamefinder.get_data_frames()[0]\n",
    "    game_ids = games_df['GAME_ID'].unique()\n",
    "\n",
    "    print(f\"Found {len(game_ids)} unique regular season game IDs for {season}\")\n",
    "    return game_ids"
   ],
   "id": "715a5bb66063681b",
   "outputs": [],
   "execution_count": 22
  },
  {
   "metadata": {
    "ExecuteTime": {
     "end_time": "2025-05-06T22:09:37.229103Z",
     "start_time": "2025-05-06T22:09:37.216104Z"
    }
   },
   "cell_type": "code",
   "source": [
    "def get_game_boxscore_v2(game_id, max_retries=5, delay=2):\n",
    "    \"\"\"\n",
    "    Get boxscore statistics for a specific game ID using dictionary access.\n",
    "\n",
    "    Args:\n",
    "        game_id (str): NBA game ID\n",
    "        max_retries (int): Maximum number of retry attempts\n",
    "        delay (float): Initial delay between retries in seconds\n",
    "\n",
    "    Returns:\n",
    "        tuple: (team_stats, player_stats) DataFrames\n",
    "    \"\"\"\n",
    "    per_call_delay = 0.5\n",
    "    for attempt in range(max_retries):\n",
    "        try:\n",
    "            # Get boxscore data\n",
    "            time.sleep(per_call_delay)\n",
    "            boxscore = boxscoretraditionalv3.BoxScoreTraditionalV3(game_id=game_id)\n",
    "            box_dict = boxscore.get_dict()['boxScoreTraditional']\n",
    "\n",
    "            # Get game date from summary endpoint\n",
    "            summary = boxscoresummaryv2.BoxScoreSummaryV2(game_id=game_id)\n",
    "            header_df = summary.get_data_frames()[0]\n",
    "            game_date = header_df['GAME_DATE_EST'].iloc[0]\n",
    "\n",
    "            # Extract team information\n",
    "            home_team = box_dict['homeTeam']\n",
    "            away_team = box_dict['awayTeam']\n",
    "\n",
    "            # Create team rows with all required data\n",
    "            home_team_data = {\n",
    "                'gameId': int(game_id),\n",
    "                'teamId': int(home_team['teamId']),\n",
    "                'teamCity': home_team['teamCity'],\n",
    "                'teamName': home_team['teamName'],\n",
    "                'teamTricode': home_team['teamTricode'],\n",
    "                'teamSlug': home_team['teamSlug'],\n",
    "                'opponentTeamId': int(away_team['teamId']),\n",
    "                'opponentTeamCity': away_team['teamCity'],\n",
    "                'opponentTeamName': away_team['teamName'],\n",
    "                'opponentTeamTricode': away_team['teamTricode'],\n",
    "                'opponentTeamSlug': away_team['teamSlug'],\n",
    "                'home': 1,\n",
    "                'gameDate': game_date\n",
    "            }\n",
    "\n",
    "            away_team_data = {\n",
    "                'gameId': int(game_id),\n",
    "                'teamId': int(away_team['teamId']),\n",
    "                'teamCity': away_team['teamCity'],\n",
    "                'teamName': away_team['teamName'],\n",
    "                'teamTricode': away_team['teamTricode'],\n",
    "                'teamSlug': away_team['teamSlug'],\n",
    "                'opponentTeamId': int(home_team['teamId']),\n",
    "                'opponentTeamCity': home_team['teamCity'],\n",
    "                'opponentTeamName': home_team['teamName'],\n",
    "                'opponentTeamTricode': home_team['teamTricode'],\n",
    "                'opponentTeamSlug': home_team['teamSlug'],\n",
    "                'home': 0,\n",
    "                'gameDate': game_date\n",
    "            }\n",
    "\n",
    "            # Add all statistics from the team dictionaries\n",
    "            for key, value in home_team['statistics'].items():\n",
    "                home_team_data[key] = value\n",
    "\n",
    "            for key, value in away_team['statistics'].items():\n",
    "                away_team_data[key] = value\n",
    "\n",
    "            # Create team_stats DataFrame\n",
    "            team_stats = pd.DataFrame([home_team_data, away_team_data])\n",
    "\n",
    "            # Add opponent points\n",
    "            home_points = home_team['statistics']['points']\n",
    "            away_points = away_team['statistics']['points']\n",
    "\n",
    "            team_stats.loc[team_stats['home'] == 1, 'opponentPoints'] = away_points\n",
    "            team_stats.loc[team_stats['home'] == 0, 'opponentPoints'] = home_points\n",
    "\n",
    "            # Add win column (1 if team won, 0 if lost)\n",
    "            team_stats['win'] = (team_stats['points'] > team_stats['opponentPoints']).astype(int)\n",
    "\n",
    "            # ----- PLAYER STATISTICS -----\n",
    "            # Extract player data from both home and away teams\n",
    "            player_data_list = []\n",
    "\n",
    "            # Process home team players\n",
    "            for player in home_team['players']:\n",
    "                player_data = {\n",
    "                    'gameId': int(game_id),\n",
    "                    'teamId': int(home_team['teamId']),\n",
    "                    'teamName': home_team['teamName'],\n",
    "                    'teamTricode': home_team['teamTricode'],\n",
    "                    'teamCity': home_team['teamCity'],\n",
    "                    'teamSlug': home_team['teamSlug'],\n",
    "                    'opponentTeamId': int(away_team['teamId']),\n",
    "                    'opponentTeamCity': away_team['teamCity'],\n",
    "                    'opponentTeamName': away_team['teamName'],\n",
    "                    'opponentTeamTricode': away_team['teamTricode'],\n",
    "                    'opponentTeamSlug': away_team['teamSlug'],\n",
    "                    'personId': int(player['personId']),\n",
    "                    'firstName': player['firstName'],\n",
    "                    'familyName': player['familyName'],\n",
    "                    'nameI': player['nameI'],\n",
    "                    'playerSlug': player['playerSlug'],\n",
    "                    'position': player['position'],\n",
    "                    'comment': player['comment'],\n",
    "                    'jerseyNum': player['jerseyNum'],\n",
    "                    'home': 1,\n",
    "                    'gameDate': game_date,\n",
    "                    'win': 1 if home_points > away_points else 0\n",
    "                }\n",
    "\n",
    "                # Add all player statistics\n",
    "                for key, value in player['statistics'].items():\n",
    "                    player_data[key] = value\n",
    "\n",
    "                player_data_list.append(player_data)\n",
    "\n",
    "            # Process away team players\n",
    "            for player in away_team['players']:\n",
    "                player_data = {\n",
    "                    'gameId': int(game_id),\n",
    "                    'teamId': int(away_team['teamId']),\n",
    "                    'teamName': away_team['teamName'],\n",
    "                    'teamTricode': away_team['teamTricode'],\n",
    "                    'teamCity': away_team['teamCity'],\n",
    "                    'teamSlug': away_team['teamSlug'],\n",
    "                    'opponentTeamId': int(home_team['teamId']),\n",
    "                    'opponentTeamCity': home_team['teamCity'],\n",
    "                    'opponentTeamName': home_team['teamName'],\n",
    "                    'opponentTeamTricode': home_team['teamTricode'],\n",
    "                    'opponentTeamSlug': home_team['teamSlug'],\n",
    "                    'personId': int(player['personId']),\n",
    "                    'firstName': player['firstName'],\n",
    "                    'familyName': player['familyName'],\n",
    "                    'nameI': player['nameI'],\n",
    "                    'playerSlug': player['playerSlug'],\n",
    "                    'position': player['position'],\n",
    "                    'comment': player['comment'],\n",
    "                    'jerseyNum': player['jerseyNum'],\n",
    "                    'home': 0,\n",
    "                    'gameDate': game_date,\n",
    "                    'win': 1 if away_points > home_points else 0\n",
    "                }\n",
    "\n",
    "                # Add all player statistics\n",
    "                for key, value in player['statistics'].items():\n",
    "                    player_data[key] = value\n",
    "\n",
    "                player_data_list.append(player_data)\n",
    "\n",
    "            # Create player_stats DataFrame\n",
    "            player_stats = pd.DataFrame(player_data_list)\n",
    "\n",
    "            return team_stats, player_stats\n",
    "\n",
    "        except Exception as e:\n",
    "            print(f\"Error on attempt {attempt+1}: {e}\")\n",
    "            time.sleep(delay)\n",
    "            delay *= 2\n",
    "\n",
    "    print(f\"Failed to retrieve boxscore for game {game_id} after {max_retries} attempts\")\n",
    "    return None, None"
   ],
   "id": "6ce852b3da5c35c1",
   "outputs": [],
   "execution_count": 19
  },
  {
   "metadata": {
    "ExecuteTime": {
     "end_time": "2025-05-06T22:09:40.753952Z",
     "start_time": "2025-05-06T22:09:39.486711Z"
    }
   },
   "cell_type": "code",
   "source": [
    "game_id = \"0029600370\"\n",
    "team_stats, player_stats = get_game_boxscore_v2(game_id)"
   ],
   "id": "87a97b5f6b705eea",
   "outputs": [],
   "execution_count": 20
  },
  {
   "metadata": {
    "jupyter": {
     "is_executing": true
    },
    "ExecuteTime": {
     "end_time": "2025-05-07T05:18:05.569808400Z",
     "start_time": "2025-05-06T22:09:56.324380Z"
    }
   },
   "cell_type": "code",
   "source": [
    "seasons = [f\"{year}-{(year+1) % 100:02d}\" for year in range(2009, 2025)]\n",
    "\n",
    "for season in seasons:\n",
    "    game_ids = get_season_game_ids(season)\n",
    "    team_frames = []\n",
    "    player_frames = []\n",
    "\n",
    "    for game_id in game_ids:\n",
    "        team_stats, player_stats = get_game_boxscore_v2(game_id)\n",
    "        if team_stats is not None:\n",
    "            team_frames.append(team_stats)\n",
    "        if player_stats is not None:\n",
    "            player_frames.append(player_stats)\n",
    "\n",
    "    if team_frames:\n",
    "        team_df = pd.concat(team_frames, ignore_index=True)\n",
    "        team_df.to_csv(os.path.join(DATA_PATH, f\"get_data/game_logs_teams_{season}.csv\"), index=False)\n",
    "        print(f\"Team data for season {season} saved.\")\n",
    "    if player_frames:\n",
    "        player_df = pd.concat(player_frames, ignore_index=True)\n",
    "        player_df.to_csv(os.path.join(DATA_PATH, f\"get_data/game_logs_players_{season}.csv\"), index=False)\n",
    "        print(f\"Player data for season {season} saved.\")"
   ],
   "id": "850560de5ddbba0b",
   "outputs": [
    {
     "name": "stdout",
     "output_type": "stream",
     "text": [
      "Found 1189 unique regular season game IDs for 1996-97\n",
      "Team data for season 1996-97 saved.\n",
      "Player data for season 1996-97 saved.\n",
      "Found 1189 unique regular season game IDs for 1997-98\n",
      "Team data for season 1997-98 saved.\n",
      "Player data for season 1997-98 saved.\n",
      "Found 725 unique regular season game IDs for 1998-99\n",
      "Team data for season 1998-99 saved.\n",
      "Player data for season 1998-99 saved.\n",
      "Found 1189 unique regular season game IDs for 1999-00\n",
      "Team data for season 1999-00 saved.\n",
      "Player data for season 1999-00 saved.\n",
      "Found 1189 unique regular season game IDs for 2000-01\n",
      "Team data for season 2000-01 saved.\n",
      "Player data for season 2000-01 saved.\n",
      "Found 1189 unique regular season game IDs for 2001-02\n",
      "Team data for season 2001-02 saved.\n",
      "Player data for season 2001-02 saved.\n",
      "Found 1189 unique regular season game IDs for 2002-03\n",
      "Team data for season 2002-03 saved.\n",
      "Player data for season 2002-03 saved.\n",
      "Found 1189 unique regular season game IDs for 2003-04\n",
      "Team data for season 2003-04 saved.\n",
      "Player data for season 2003-04 saved.\n",
      "Found 1230 unique regular season game IDs for 2004-05\n",
      "Team data for season 2004-05 saved.\n",
      "Player data for season 2004-05 saved.\n",
      "Found 1230 unique regular season game IDs for 2005-06\n",
      "Team data for season 2005-06 saved.\n",
      "Player data for season 2005-06 saved.\n",
      "Found 1230 unique regular season game IDs for 2006-07\n",
      "Team data for season 2006-07 saved.\n",
      "Player data for season 2006-07 saved.\n",
      "Found 1230 unique regular season game IDs for 2007-08\n",
      "Team data for season 2007-08 saved.\n",
      "Player data for season 2007-08 saved.\n",
      "Found 1230 unique regular season game IDs for 2008-09\n",
      "Team data for season 2008-09 saved.\n",
      "Player data for season 2008-09 saved.\n",
      "Found 1230 unique regular season game IDs for 2009-10\n",
      "Error on attempt 1: HTTPSConnectionPool(host='stats.nba.com', port=443): Max retries exceeded with url: /stats/boxscoretraditionalv3?EndPeriod=0&EndRange=0&GameID=0020901046&RangeType=0&StartPeriod=0&StartRange=0 (Caused by NameResolutionError(\"<urllib3.connection.HTTPSConnection object at 0x000001BDEC1BA430>: Failed to resolve 'stats.nba.com' ([Errno 11001] getaddrinfo failed)\"))\n",
      "Error on attempt 2: HTTPSConnectionPool(host='stats.nba.com', port=443): Max retries exceeded with url: /stats/boxscoretraditionalv3?EndPeriod=0&EndRange=0&GameID=0020901046&RangeType=0&StartPeriod=0&StartRange=0 (Caused by NameResolutionError(\"<urllib3.connection.HTTPSConnection object at 0x000001BDEFDEAB50>: Failed to resolve 'stats.nba.com' ([Errno 11001] getaddrinfo failed)\"))\n",
      "Error on attempt 3: HTTPSConnectionPool(host='stats.nba.com', port=443): Max retries exceeded with url: /stats/boxscoretraditionalv3?EndPeriod=0&EndRange=0&GameID=0020901046&RangeType=0&StartPeriod=0&StartRange=0 (Caused by NameResolutionError(\"<urllib3.connection.HTTPSConnection object at 0x000001BDEEAF7D30>: Failed to resolve 'stats.nba.com' ([Errno 11001] getaddrinfo failed)\"))\n"
     ]
    }
   ],
   "execution_count": null
  },
  {
   "metadata": {},
   "cell_type": "markdown",
   "source": "# Transform Team Data",
   "id": "6f98126ab0540fd9"
  },
  {
   "metadata": {
    "ExecuteTime": {
     "end_time": "2025-05-07T05:22:46.642075Z",
     "start_time": "2025-05-07T05:22:46.608910Z"
    }
   },
   "cell_type": "code",
   "source": "season_df = pd.read_csv(os.path.join(DATA_PATH, f\"get_data/game_logs_teams_1996-97.csv\"))",
   "id": "f9c300e0870862a4",
   "outputs": [],
   "execution_count": 7
  },
  {
   "metadata": {
    "ExecuteTime": {
     "end_time": "2025-05-07T05:23:33.701686Z",
     "start_time": "2025-05-07T05:23:33.689285Z"
    }
   },
   "cell_type": "code",
   "source": [
    "# Get Columns\n",
    "print(season_df.columns)"
   ],
   "id": "a53be1bba28610d4",
   "outputs": [
    {
     "name": "stdout",
     "output_type": "stream",
     "text": [
      "Index(['gameId', 'teamId', 'teamCity', 'teamName', 'teamTricode', 'teamSlug',\n",
      "       'opponentTeamId', 'opponentTeamCity', 'opponentTeamName',\n",
      "       'opponentTeamTricode', 'opponentTeamSlug', 'home', 'gameDate',\n",
      "       'minutes', 'fieldGoalsMade', 'fieldGoalsAttempted',\n",
      "       'fieldGoalsPercentage', 'threePointersMade', 'threePointersAttempted',\n",
      "       'threePointersPercentage', 'freeThrowsMade', 'freeThrowsAttempted',\n",
      "       'freeThrowsPercentage', 'reboundsOffensive', 'reboundsDefensive',\n",
      "       'reboundsTotal', 'assists', 'steals', 'blocks', 'turnovers',\n",
      "       'foulsPersonal', 'points', 'plusMinusPoints', 'opponentPoints', 'win'],\n",
      "      dtype='object')\n"
     ]
    }
   ],
   "execution_count": 8
  },
  {
   "metadata": {
    "ExecuteTime": {
     "end_time": "2025-05-07T05:28:57.796752Z",
     "start_time": "2025-05-07T05:28:57.785508Z"
    }
   },
   "cell_type": "code",
   "source": [
    "column_mapping = {\n",
    "    'points': 'teamScore',\n",
    "    'opponentPoints': 'opponentScore',\n",
    "    'minutes': 'numMinutes'\n",
    "}"
   ],
   "id": "4658e75530862b5c",
   "outputs": [],
   "execution_count": 9
  },
  {
   "metadata": {
    "ExecuteTime": {
     "end_time": "2025-05-07T05:29:35.123169Z",
     "start_time": "2025-05-07T05:29:35.033930Z"
    }
   },
   "cell_type": "code",
   "source": [
    "# Replace columns\n",
    "season_dfs = []\n",
    "seasons = [f\"{year}-{(year+1) % 100:02d}\" for year in range(1996, 2009)]\n",
    "for season in seasons:\n",
    "    season_df = pd.read_csv(os.path.join(DATA_PATH, f\"get_data/game_logs_teams_{season}.csv\"))\n",
    "    # Rename columns\n",
    "    season_df.rename(columns=column_mapping, inplace=True)\n",
    "    season_dfs.append(season_df)"
   ],
   "id": "fe8fe05d430ca5d3",
   "outputs": [],
   "execution_count": 12
  },
  {
   "metadata": {
    "ExecuteTime": {
     "end_time": "2025-05-07T05:29:53.128901Z",
     "start_time": "2025-05-07T05:29:52.960894Z"
    }
   },
   "cell_type": "code",
   "source": [
    "# Concatenate all seasons into one CSV\n",
    "all_team_df = pd.concat(season_dfs, ignore_index=True)\n",
    "all_team_df.to_csv(os.path.join(DATA_PATH, \"get_data/game_logs_teams_all.csv\"), index=False)"
   ],
   "id": "d4075b5defcb6941",
   "outputs": [],
   "execution_count": 13
  },
  {
   "metadata": {},
   "cell_type": "markdown",
   "source": "# Transform Player Data",
   "id": "19203aef36741a99"
  },
  {
   "metadata": {
    "ExecuteTime": {
     "end_time": "2025-05-07T05:31:31.042481Z",
     "start_time": "2025-05-07T05:31:30.941618Z"
    }
   },
   "cell_type": "code",
   "source": "season_df = pd.read_csv(os.path.join(DATA_PATH, f\"get_data/game_logs_players_1996-97.csv\"))",
   "id": "558380f62a1546bb",
   "outputs": [],
   "execution_count": 15
  },
  {
   "metadata": {
    "ExecuteTime": {
     "end_time": "2025-05-07T05:31:31.697812Z",
     "start_time": "2025-05-07T05:31:31.692809Z"
    }
   },
   "cell_type": "code",
   "source": "print(season_df.columns)",
   "id": "6b2b8ca287753b40",
   "outputs": [
    {
     "name": "stdout",
     "output_type": "stream",
     "text": [
      "Index(['gameId', 'teamId', 'teamName', 'teamTricode', 'teamCity', 'teamSlug',\n",
      "       'opponentTeamId', 'opponentTeamCity', 'opponentTeamName',\n",
      "       'opponentTeamTricode', 'opponentTeamSlug', 'personId', 'firstName',\n",
      "       'familyName', 'nameI', 'playerSlug', 'position', 'comment', 'jerseyNum',\n",
      "       'home', 'gameDate', 'win', 'minutes', 'fieldGoalsMade',\n",
      "       'fieldGoalsAttempted', 'fieldGoalsPercentage', 'threePointersMade',\n",
      "       'threePointersAttempted', 'threePointersPercentage', 'freeThrowsMade',\n",
      "       'freeThrowsAttempted', 'freeThrowsPercentage', 'reboundsOffensive',\n",
      "       'reboundsDefensive', 'reboundsTotal', 'assists', 'steals', 'blocks',\n",
      "       'turnovers', 'foulsPersonal', 'points', 'plusMinusPoints'],\n",
      "      dtype='object')\n"
     ]
    }
   ],
   "execution_count": 16
  },
  {
   "metadata": {
    "ExecuteTime": {
     "end_time": "2025-05-07T05:35:01.750278Z",
     "start_time": "2025-05-07T05:35:01.738822Z"
    }
   },
   "cell_type": "code",
   "source": [
    "player_column_mapping = {\n",
    "    'familyName': 'lastName',\n",
    "    'teamCity': 'playerteamCity',\n",
    "    'teamName': 'playerteamName',\n",
    "    'teamTricode': 'playerteamTricode',\n",
    "    'teamSlug': 'playerteamSlug',\n",
    "    'minutes': 'numMinutes'\n",
    "}"
   ],
   "id": "9c6d21617dc6e06",
   "outputs": [],
   "execution_count": 18
  },
  {
   "metadata": {
    "ExecuteTime": {
     "end_time": "2025-05-07T05:35:03.473693Z",
     "start_time": "2025-05-07T05:35:02.495003Z"
    }
   },
   "cell_type": "code",
   "source": [
    "player_dfs = []\n",
    "seasons = [f\"{year}-{(year+1) % 100:02d}\" for year in range(1996, 2009)]\n",
    "for season in seasons:\n",
    "    player_df = pd.read_csv(os.path.join(DATA_PATH, f\"get_data/game_logs_players_{season}.csv\"))\n",
    "    # Rename columns\n",
    "    player_df.rename(columns=player_column_mapping, inplace=True)\n",
    "    # Add missing columns\n",
    "    player_df['gameType'] = 'Regular Season'\n",
    "    player_df['gameLabel'] = ''\n",
    "    player_df['gameSubLabel'] = ''\n",
    "\n",
    "    player_dfs.append(player_df)"
   ],
   "id": "f94b872121e88917",
   "outputs": [
    {
     "name": "stderr",
     "output_type": "stream",
     "text": [
      "C:\\Users\\trist\\AppData\\Local\\Temp\\ipykernel_9876\\189571244.py:4: DtypeWarning: Columns (18) have mixed types. Specify dtype option on import or set low_memory=False.\n",
      "  player_df = pd.read_csv(os.path.join(DATA_PATH, f\"get_data/game_logs_players_{season}.csv\"))\n"
     ]
    }
   ],
   "execution_count": 19
  },
  {
   "metadata": {
    "ExecuteTime": {
     "end_time": "2025-05-07T05:35:11.316201Z",
     "start_time": "2025-05-07T05:35:08.688726Z"
    }
   },
   "cell_type": "code",
   "source": [
    "# Concatenate all seasons into one CSV\n",
    "all_player_df = pd.concat(player_dfs, ignore_index=True)\n",
    "all_player_df.to_csv(os.path.join(DATA_PATH, \"get_data/game_logs_players_all.csv\"), index=False)"
   ],
   "id": "3bedc8999c7a3227",
   "outputs": [],
   "execution_count": 20
  },
  {
   "metadata": {},
   "cell_type": "code",
   "outputs": [],
   "execution_count": null,
   "source": "",
   "id": "dbab552a6ada003c"
  }
 ],
 "metadata": {
  "kernelspec": {
   "display_name": "Python 3",
   "language": "python",
   "name": "python3"
  },
  "language_info": {
   "codemirror_mode": {
    "name": "ipython",
    "version": 2
   },
   "file_extension": ".py",
   "mimetype": "text/x-python",
   "name": "python",
   "nbconvert_exporter": "python",
   "pygments_lexer": "ipython2",
   "version": "2.7.6"
  }
 },
 "nbformat": 4,
 "nbformat_minor": 5
}
