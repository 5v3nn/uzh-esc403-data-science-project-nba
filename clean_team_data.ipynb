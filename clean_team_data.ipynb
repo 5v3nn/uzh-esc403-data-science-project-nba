{
 "cells": [
  {
   "metadata": {
    "ExecuteTime": {
     "end_time": "2025-05-06T08:16:13.875278Z",
     "start_time": "2025-05-06T08:16:13.845282Z"
    }
   },
   "cell_type": "code",
   "source": [
    "import pandas as pd\n",
    "import numpy as np\n",
    "import matplotlib.pyplot as plt\n",
    "import seaborn as sns\n",
    "import scipy.stats as stats\n",
    "import os\n",
    "import yaml"
   ],
   "id": "96c13b1d99e6a4d",
   "outputs": [],
   "execution_count": 1
  },
  {
   "cell_type": "code",
   "id": "initial_id",
   "metadata": {
    "collapsed": true,
    "ExecuteTime": {
     "end_time": "2025-05-06T08:16:25.748139Z",
     "start_time": "2025-05-06T08:16:25.736138Z"
    }
   },
   "source": [
    "# load yaml\n",
    "with open(\"config.yaml\", \"r\") as f:\n",
    "    config = yaml.safe_load(f)\n",
    "    DATA_PATH = config.get(\"data_path\")\n",
    "    if DATA_PATH is None:\n",
    "        print(\"ERROR: No data path provided\")\n",
    "    USE_DRIVE = bool(config.get(\"use_drive\", False))"
   ],
   "outputs": [],
   "execution_count": 2
  },
  {
   "metadata": {
    "ExecuteTime": {
     "end_time": "2025-05-06T08:16:26.296711Z",
     "start_time": "2025-05-06T08:16:26.284212Z"
    }
   },
   "cell_type": "code",
   "source": [
    "# load from drive if requested\n",
    "if USE_DRIVE:\n",
    "    from google.colab import drive\n",
    "    drive.mount('/content/drive')"
   ],
   "id": "cc2b8990bdab0fdf",
   "outputs": [],
   "execution_count": 3
  },
  {
   "metadata": {
    "ExecuteTime": {
     "end_time": "2025-05-06T08:16:26.949335Z",
     "start_time": "2025-05-06T08:16:26.906335Z"
    }
   },
   "cell_type": "code",
   "source": [
    "NBA_BOX_SCORE_ZIP_PATH = os.path.join(DATA_PATH, \"NBA_Boxscores.zip\")\n",
    "\n",
    "!unzip \"{NBA_BOX_SCORE_ZIP_PATH}\""
   ],
   "id": "c09f01758a5f5033",
   "outputs": [
    {
     "name": "stderr",
     "output_type": "stream",
     "text": [
      "'unzip' is not recognized as an internal or external command,\n",
      "operable program or batch file.\n"
     ]
    }
   ],
   "execution_count": 4
  },
  {
   "metadata": {
    "ExecuteTime": {
     "end_time": "2025-05-06T08:23:19.002157Z",
     "start_time": "2025-05-06T08:23:16.733945Z"
    }
   },
   "cell_type": "code",
   "source": [
    "team_statistics_df = pd.read_csv(os.path.join(DATA_PATH, \"TeamStatistics.csv\"))\n",
    "player_statistics_df = pd.read_csv(os.path.join(DATA_PATH, \"PlayerStatistics.csv\"))"
   ],
   "id": "2896303a98bd9d28",
   "outputs": [
    {
     "name": "stderr",
     "output_type": "stream",
     "text": [
      "C:\\Users\\trist\\AppData\\Local\\Temp\\ipykernel_30980\\470353411.py:2: DtypeWarning: Columns (10,11) have mixed types. Specify dtype option on import or set low_memory=False.\n",
      "  player_statistics_df = pd.read_csv(os.path.join(DATA_PATH, \"PlayerStatistics.csv\"))\n"
     ]
    }
   ],
   "execution_count": 19
  },
  {
   "metadata": {
    "ExecuteTime": {
     "end_time": "2025-05-06T08:18:36.504773Z",
     "start_time": "2025-05-06T08:18:36.287740Z"
    }
   },
   "cell_type": "code",
   "source": [
    "# Add gametype to team statistics\n",
    "game_type_df = player_statistics_df[['gameId', 'gameType', 'gameSubLabel']].drop_duplicates()\n",
    "team_statistics_df = team_statistics_df.merge(game_type_df, on='gameId', how='left')\n",
    "\n",
    "# Include NBA Emirates Cup games, excluding the Championship Final (Dec 17, 2024) since they are part of the Regular Season\n",
    "emirates_cup_non_final_df = team_statistics_df[\n",
    "    (team_statistics_df['gameType'] == 'NBA Emirates Cup') &\n",
    "    (team_statistics_df['gameSubLabel'] != 'Championship')\n",
    "]"
   ],
   "id": "7c3aa984c19e29b3",
   "outputs": [],
   "execution_count": 11
  },
  {
   "metadata": {
    "ExecuteTime": {
     "end_time": "2025-05-06T08:19:03.786371Z",
     "start_time": "2025-05-06T08:19:03.696855Z"
    }
   },
   "cell_type": "code",
   "source": [
    "# Only have regular season games\n",
    "team_statistics_df = team_statistics_df[team_statistics_df['gameType'] == 'Regular Season']\n",
    "team_statistics_df = pd.concat([team_statistics_df, emirates_cup_non_final_df])\n",
    "# remove any remaining Championship-labeled games (e.g. misclassified 2024 IST Final)\n",
    "team_statistics_df = team_statistics_df[\n",
    "    team_statistics_df['gameSubLabel'] != 'Championship'\n",
    "].reset_index(drop=True)"
   ],
   "id": "8f74123249c4b61b",
   "outputs": [],
   "execution_count": 12
  },
  {
   "metadata": {
    "ExecuteTime": {
     "end_time": "2025-05-06T08:19:04.251188Z",
     "start_time": "2025-05-06T08:19:04.223673Z"
    }
   },
   "cell_type": "code",
   "source": [
    "# Drop unnecessary columns\n",
    "team_statistics_df = team_statistics_df.drop(columns=['coachId', 'gameType', 'gameSubLabel'])\n",
    "\n",
    "# Drop Advanced stats columns --> Too little sample size\n",
    "team_statistics_df = team_statistics_df.drop(columns=['q1Points', 'q2Points', 'q3Points', 'q4Points', 'benchPoints', 'biggestLead', 'biggestScoringRun', 'leadChanges', 'pointsFastBreak', 'pointsFromTurnovers', 'pointsInThePaint', 'pointsSecondChance', 'timesTied', 'timeoutsRemaining', 'seasonWins', 'seasonLosses'])"
   ],
   "id": "130173ae9d92e0b7",
   "outputs": [],
   "execution_count": 13
  },
  {
   "metadata": {
    "ExecuteTime": {
     "end_time": "2025-05-06T08:19:11.146334Z",
     "start_time": "2025-05-06T08:19:11.118329Z"
    }
   },
   "cell_type": "code",
   "source": "team_statistics_df.info()",
   "id": "b7305af078da1d56",
   "outputs": [
    {
     "name": "stdout",
     "output_type": "stream",
     "text": [
      "<class 'pandas.core.frame.DataFrame'>\n",
      "RangeIndex: 130918 entries, 0 to 130917\n",
      "Data columns (total 31 columns):\n",
      " #   Column                   Non-Null Count   Dtype  \n",
      "---  ------                   --------------   -----  \n",
      " 0   gameId                   130918 non-null  int64  \n",
      " 1   gameDate                 130918 non-null  object \n",
      " 2   teamCity                 130918 non-null  object \n",
      " 3   teamName                 130918 non-null  object \n",
      " 4   teamId                   130918 non-null  int64  \n",
      " 5   opponentTeamCity         130918 non-null  object \n",
      " 6   opponentTeamName         130918 non-null  object \n",
      " 7   opponentTeamId           130918 non-null  int64  \n",
      " 8   home                     130918 non-null  int64  \n",
      " 9   win                      130918 non-null  int64  \n",
      " 10  teamScore                130918 non-null  int64  \n",
      " 11  opponentScore            130918 non-null  int64  \n",
      " 12  assists                  97810 non-null   float64\n",
      " 13  blocks                   92477 non-null   float64\n",
      " 14  steals                   92061 non-null   float64\n",
      " 15  fieldGoalsAttempted      98450 non-null   float64\n",
      " 16  fieldGoalsMade           130904 non-null  float64\n",
      " 17  fieldGoalsPercentage     98379 non-null   float64\n",
      " 18  threePointersAttempted   92456 non-null   float64\n",
      " 19  threePointersMade        102984 non-null  float64\n",
      " 20  threePointersPercentage  91786 non-null   float64\n",
      " 21  freeThrowsAttempted      126152 non-null  float64\n",
      " 22  freeThrowsMade           130902 non-null  float64\n",
      " 23  freeThrowsPercentage     126148 non-null  float64\n",
      " 24  reboundsDefensive        91747 non-null   float64\n",
      " 25  reboundsOffensive        91884 non-null   float64\n",
      " 26  reboundsTotal            98100 non-null   float64\n",
      " 27  foulsPersonal            127190 non-null  float64\n",
      " 28  turnovers                92409 non-null   float64\n",
      " 29  plusMinusPoints          130014 non-null  float64\n",
      " 30  numMinutes               130918 non-null  float64\n",
      "dtypes: float64(19), int64(7), object(5)\n",
      "memory usage: 31.0+ MB\n"
     ]
    }
   ],
   "execution_count": 14
  },
  {
   "metadata": {
    "ExecuteTime": {
     "end_time": "2025-05-06T08:23:19.759273Z",
     "start_time": "2025-05-06T08:23:19.498250Z"
    }
   },
   "cell_type": "code",
   "source": [
    "# Ensure gameDate is a datetime and extract the year\n",
    "game_type_df = player_statistics_df[['gameId', 'gameType', 'gameSubLabel']].drop_duplicates()\n",
    "team_statistics_df = team_statistics_df.merge(game_type_df, on='gameId', how='left')\n",
    "team_statistics_df = team_statistics_df[team_statistics_df['gameType'] == 'Regular Season']\n",
    "team_statistics_df['gameDate'] = pd.to_datetime(team_statistics_df['gameDate'])\n",
    "team_statistics_df['year'] = team_statistics_df['gameDate'].dt.year\n",
    "\n",
    "# Group by team (using teamId) and year, and count total games\n",
    "games_per_team_year = team_statistics_df.groupby(['teamName', 'year']).size().reset_index(name='total_games')\n",
    "\n",
    "print(games_per_team_year.head())"
   ],
   "id": "2a88fc945b07195e",
   "outputs": [
    {
     "name": "stdout",
     "output_type": "stream",
     "text": [
      "  teamName  year  total_games\n",
      "0    76ers  1963           33\n",
      "1    76ers  1964           84\n",
      "2    76ers  1965           77\n",
      "3    76ers  1966           84\n",
      "4    76ers  1967           82\n"
     ]
    }
   ],
   "execution_count": 20
  },
  {
   "metadata": {},
   "cell_type": "code",
   "outputs": [],
   "execution_count": null,
   "source": [
    "team_statistics_df.info()\n",
    "team_statistics_df = team_statistics_df.dropna()\n",
    "team_statistics_df.info()\n",
    "\n",
    "# Remove entries where freeThrowPercentage > 1.0\n",
    "team_statistics_df = team_statistics_df[team_statistics_df['freeThrowsPercentage'] <= 1.0]\n",
    "team_statistics_df = team_statistics_df[team_statistics_df['fieldGoalsPercentage'] <= 1.0]\n",
    "team_statistics_df = team_statistics_df[team_statistics_df['threePointersPercentage'] <= 1.0]\n",
    "team_statistics_df.info()\n",
    "\n",
    "# Save as csv\n",
    "REGULAR_SEASON_CSV_PATH = \"/content/drive/MyDrive/Intro_Data_Science_Project/data/regular_season_team_df.csv\"\n",
    "#REGULAR_SEASON_CSV_PATH = \"./../data/regular_season_team_df.csv\"\n",
    "team_statistics_df.to_csv(REGULAR_SEASON_CSV_PATH, index=False)\n",
    "team_statistics_df.info"
   ],
   "id": "9ff8ea2f95abf52b"
  }
 ],
 "metadata": {
  "kernelspec": {
   "display_name": "Python 3",
   "language": "python",
   "name": "python3"
  },
  "language_info": {
   "codemirror_mode": {
    "name": "ipython",
    "version": 2
   },
   "file_extension": ".py",
   "mimetype": "text/x-python",
   "name": "python",
   "nbconvert_exporter": "python",
   "pygments_lexer": "ipython2",
   "version": "2.7.6"
  }
 },
 "nbformat": 4,
 "nbformat_minor": 5
}
